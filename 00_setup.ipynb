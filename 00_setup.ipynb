{
 "cells": [
  {
   "cell_type": "markdown",
   "id": "ce110000-1111-2222-3333-ffffff000000",
   "metadata": {
    "collapsed": false,
    "name": "cell1"
   },
   "source": [
    "# Call Center Analytics with Snowflake Cortex AI"
   ]
  },
  {
   "cell_type": "markdown",
   "metadata": {},
   "source": [
    "## Enable Cortex AI for cross-region access"
   ]
  },
  {
   "cell_type": "code",
   "execution_count": null,
   "metadata": {
    "vscode": {
     "languageId": "sql"
    }
   },
   "outputs": [],
   "source": [
    "%sql\n",
    "ALTER ACCOUNT SET CORTEX_ENABLED_CROSS_REGION = 'ANY_REGION';"
   ]
  },
  {
   "cell_type": "markdown",
   "metadata": {},
   "source": [
    "## Create database & schema"
   ]
  },
  {
   "cell_type": "code",
   "execution_count": null,
   "metadata": {
    "vscode": {
     "languageId": "sql"
    }
   },
   "outputs": [],
   "source": [
    "%sql\n",
    "CREATE DATABASE IF NOT EXISTS call_center_db;\n",
    "CREATE OR REPLACE SCHEMA call_center_db.analytics;\n",
    "CREATE OR REPLACE STAGE call_center_db.analytics.audio_files\n",
    "    DIRECTORY = (ENABLE = TRUE)\n",
    "    ENCRYPTION = (TYPE = 'SNOWFLAKE_SSE')\n",
    "    COMMENT = 'Stage for call center audio files';"
   ]
  },
  {
   "cell_type": "markdown",
   "id": "a0ff0a3c-6c8f-4a44-bd30-74c6e4eda377",
   "metadata": {
    "collapsed": false,
    "name": "cell21"
   },
   "source": [
    "## Setting up session"
   ]
  },
  {
   "cell_type": "code",
   "execution_count": null,
   "id": "ce110000-1111-2222-3333-ffffff000001",
   "metadata": {
    "language": "python",
    "name": "cell2"
   },
   "outputs": [],
   "source": [
    "import pandas as pd\n",
    "import json\n",
    "import numpy as np\n",
    "import time\n",
    "from datetime import datetime, timedelta\n",
    "import streamlit as st\n",
    "\n",
    "from snowflake.snowpark import Session, DataFrame\n",
    "from snowflake.snowpark import functions as F\n",
    "from snowflake.snowpark import types as T\n",
    "from snowflake.snowpark.version import VERSION\n",
    "\n",
    "session = get_active_session()\n",
    "session.use_database(\"call_center_db\")\n",
    "session.use_schema(\"analytics\")"
   ]
  },
  {
   "cell_type": "markdown",
   "metadata": {},
   "source": [
    "## Uploading audio files\n",
    "If you are working in snowsight, you can upload the call recordings directly into the stage. Otherwise if you're working in Snowsql client / Visual studio code, you may use the ```PUT file://``` function as shown below"
   ]
  },
  {
   "cell_type": "code",
   "execution_count": null,
   "metadata": {
    "vscode": {
     "languageId": "sql"
    }
   },
   "outputs": [],
   "source": [
    "%sql\n",
    "PUT file:///recordings/*.wav @audio_files AUTO_COMPRESS=FALSE;\n",
    "-- * is a wildcard, meaning all files that ends with .wav will be passed through the function.\n",
    "-- Do not compress the files as the following codes will not work with compressed files."
   ]
  },
  {
   "cell_type": "markdown",
   "id": "52faf4bd-dbf0-4965-9114-6480876d00d1",
   "metadata": {
    "collapsed": false,
    "name": "cell19"
   },
   "source": [
    "## Verify your recordings are in the stage"
   ]
  },
  {
   "cell_type": "code",
   "execution_count": null,
   "id": "ce110000-1111-2222-3333-ffffff000005",
   "metadata": {
    "language": "sql",
    "name": "cell3",
    "vscode": {
     "languageId": "sql"
    }
   },
   "outputs": [],
   "source": [
    "%sql\n",
    "LIST @audio_files/;"
   ]
  },
  {
   "cell_type": "markdown",
   "id": "7b770614-dc10-4dcd-9b7a-45918901bcaf",
   "metadata": {
    "collapsed": false,
    "name": "cell22"
   },
   "source": [
    "## Preview audio files with Streamlit"
   ]
  },
  {
   "cell_type": "code",
   "execution_count": null,
   "id": "42831e4d-3d2e-47cb-af7d-b098ead98717",
   "metadata": {
    "language": "python",
    "name": "cell7"
   },
   "outputs": [],
   "source": [
    "stage_path = \"@call_center_db.analytics.audio_files/<'yourcallrecordings'>.WAV\"\n",
    "\n",
    "with session.file.get_stream(stage_path) as f:\n",
    "    audio_bytes = f.read()\n",
    "\n",
    "    st.audio(audio_bytes, format=\"audio/mpeg\", start_time=0)"
   ]
  },
  {
   "cell_type": "markdown",
   "id": "bffcaace-b17f-4843-9e80-dcd7382bc14c",
   "metadata": {
    "collapsed": false,
    "name": "cell20"
   },
   "source": [
    "## Create table with FILE objects for batch transcription"
   ]
  },
  {
   "cell_type": "code",
   "execution_count": null,
   "id": "53ed9c2f-3666-4607-a832-c9ba899c5fea",
   "metadata": {
    "language": "sql",
    "name": "cell10",
    "vscode": {
     "languageId": "sql"
    }
   },
   "outputs": [],
   "source": [
    "%sql\n",
    "CREATE OR REPLACE TABLE audio_files_for_transcription AS\n",
    "SELECT \n",
    "    RELATIVE_PATH as file_path,\n",
    "    TO_FILE('@audio_files', RELATIVE_PATH) as audio_file,\n",
    "    SIZE as file_size_bytes,\n",
    "    LAST_MODIFIED as upload_time,\n",
    "    REGEXP_SUBSTR(RELATIVE_PATH, '^[^_]+_[^_]+') AS call_id,\n",
    "    SPLIT_PART(RELATIVE_PATH, '_', 3) AS handler_id\n",
    "FROM DIRECTORY('@audio_files')\n",
    "WHERE RELATIVE_PATH ILIKE '%.wav';\n",
    "-- myrepublic's file names are in the format of '<call_id>_<handler_id>_<domain>.wav'\n",
    "-- if your file names are different, you may need to adjust the REGEXP_SUBSTR and SPLIT_PART functions accordingly.\n",
    "-- likewise if your audio files are in a different format, you can change the WHERE clause to filter for the correct file type: .mp3, .flac, etc."
   ]
  },
  {
   "cell_type": "code",
   "execution_count": null,
   "id": "2748724f-4cc4-44cf-9f35-c7b1f104beb3",
   "metadata": {
    "codeCollapsed": false,
    "language": "sql",
    "name": "cell24",
    "vscode": {
     "languageId": "sql"
    }
   },
   "outputs": [],
   "source": [
    "SELECT * FROM audio_files_for_transcription;"
   ]
  },
  {
   "cell_type": "markdown",
   "id": "ce110000-1111-2222-3333-ffffff000006",
   "metadata": {
    "collapsed": false,
    "name": "cell4"
   },
   "source": [
    "## Transcribing audio files"
   ]
  },
  {
   "cell_type": "code",
   "execution_count": null,
   "id": "ce110000-1111-2222-3333-ffffff000008",
   "metadata": {
    "language": "sql",
    "name": "cell6",
    "vscode": {
     "languageId": "sql"
    }
   },
   "outputs": [],
   "source": [
    "%sql\n",
    "CREATE OR REPLACE TABLE ai_transcribed_calls AS\n",
    "SELECT \n",
    "    call_id,\n",
    "    handler_id,\n",
    "    AI_TRANSCRIBE(audio_file):text::STRING as transcript,\n",
    "    LENGTH(AI_TRANSCRIBE(audio_file):text::STRING) as transcript_length,\n",
    "    ARRAY_SIZE(SPLIT(AI_TRANSCRIBE(audio_file):text::STRING, ' ')) as word_count,\n",
    "    CASE \n",
    "        WHEN AI_TRANSCRIBE(audio_file):text IS NULL THEN 'FAILED'\n",
    "        WHEN LENGTH(AI_TRANSCRIBE(audio_file):text::STRING) < 10 THEN 'SHORT'\n",
    "        ELSE 'SUCCESS'\n",
    "    END as status,\n",
    "    file_path\n",
    "FROM audio_files_for_transcription\n",
    "ORDER BY file_size_bytes ASC;  -- Start with smaller files"
   ]
  },
  {
   "cell_type": "code",
   "execution_count": null,
   "id": "d7fc9cca-cd7f-427d-bf9b-693f25ca0532",
   "metadata": {
    "language": "sql",
    "name": "cell28",
    "vscode": {
     "languageId": "sql"
    }
   },
   "outputs": [],
   "source": [
    "%sql\n",
    "SELECT * FROM ai_transcribed_calls;"
   ]
  },
  {
   "cell_type": "markdown",
   "id": "f3736610-ffb1-4f87-bcda-468f950965c6",
   "metadata": {
    "collapsed": false,
    "name": "cell8"
   },
   "source": [
    "## Using Snowflake Cortex AI to analyse transcripts"
   ]
  },
  {
   "cell_type": "code",
   "execution_count": null,
   "id": "ce110000-1111-2222-3333-ffffff000011",
   "metadata": {
    "language": "sql",
    "name": "cell11",
    "vscode": {
     "languageId": "sql"
    }
   },
   "outputs": [],
   "source": [
    "%sql\n",
    "-- Create table to store transcript analysis\n",
    "CREATE OR REPLACE TABLE call_analysis AS\n",
    "SELECT \n",
    "    call_id,\n",
    "    handler_id,\n",
    "    transcript,\n",
    "    \n",
    "    -- Sentiment Analysis\n",
    "    SNOWFLAKE.CORTEX.SENTIMENT(transcript) as sentiment_score,\n",
    "    CASE \n",
    "        WHEN SNOWFLAKE.CORTEX.SENTIMENT(transcript) > 0.1 THEN 'POSITIVE'\n",
    "        WHEN SNOWFLAKE.CORTEX.SENTIMENT(transcript) < -0.1 THEN 'NEGATIVE'\n",
    "        ELSE 'NEUTRAL'\n",
    "    END as sentiment,\n",
    "    \n",
    "    -- Call Summary\n",
    "    SNOWFLAKE.CORTEX.SUMMARIZE(transcript) as summary,\n",
    "    \n",
    "    -- Using JSON prompt to extract structured information\n",
    "    AI_COMPLETE(\n",
    "        model => 'claude-4-sonnet',\n",
    "        prompt => 'Analyze this call center conversation and extract structured information. Call transcript: ' || transcript,\n",
    "        model_parameters => {'temperature': 0.1, 'max_tokens': 2048},\n",
    "        response_format => {\n",
    "            'type': 'json',\n",
    "            'schema': {\n",
    "                'type': 'object',\n",
    "                'properties': {\n",
    "                    'primary_intent': {'type': 'string', 'enum': ['product_enquiry', 'sales', 'delivery_status', 'complaint', 'cancellation', 'other']},\n",
    "                    'urgency_level': {'type': 'string', 'enum': ['low', 'medium', 'high', 'critical']},\n",
    "                    'issue_resolved': {'type': 'string', 'enum': ['yes', 'no', 'partial']},\n",
    "                    'escalation_required': {'type': 'string', 'enum': ['yes', 'no']},\n",
    "                    'customer_satisfaction': {'type': 'string', 'enum': ['satisfied', 'neutral', 'dissatisfied']},\n",
    "                    'call_duration_estimate': {'type': 'string', 'enum': ['short', 'medium', 'long']},\n",
    "                    'key_issues': {'type': 'array', 'items': {'type': 'string'}},\n",
    "                    'action_items': {'type': 'array', 'items': {'type': 'string'}},\n",
    "                    'invoice_number': {'type': 'array', 'items': {'type': 'string'}},\n",
    "                    'monetary_amounts': {'type': 'array', 'items': {'type': 'string'}},\n",
    "                    'callback_requested': {'type': 'string', 'enum': ['yes', 'no']}\n",
    "                },\n",
    "                'required': ['primary_intent', 'urgency_level', 'issue_resolved', 'escalation_required', 'customer_satisfaction']\n",
    "            }\n",
    "        }\n",
    "    ) as call_info,\n",
    "    \n",
    "    -- Quality score\n",
    "    TRY_CAST(\n",
    "        AI_COMPLETE(\n",
    "            model => 'claude-4-sonnet',\n",
    "            prompt => 'Rate this call center conversation on a scale of 1-10 for agent performance considering: professionalism, problem-solving, communication clarity, and customer service. Provide only the numeric score (no text). If you cannot determine a score, return null and nothing else: ' || transcript,\n",
    "            model_parameters => {'temperature': 0, 'max_tokens': 10}\n",
    "       )::VARCHAR AS NUMBER(3,1)\n",
    "    ) as agent_performance_score,\n",
    "    \n",
    "    -- Improvement Areas\n",
    "    AI_COMPLETE(\n",
    "        model => 'claude-4-sonnet',\n",
    "        prompt => 'List 3 specific improvement opportunities for this call center conversation in bullet points: ' || transcript,\n",
    "        model_parameters => {'temperature': 0.3, 'max_tokens': 500}\n",
    "    ) as improvement_areas,\n",
    "\n",
    "    CURRENT_TIMESTAMP() as timestamp\n",
    "    \n",
    "FROM ai_transcribed_calls\n",
    "WHERE status = 'SUCCESS'\n",
    "AND transcript IS NOT NULL\n",
    "AND LENGTH(transcript) > 50;  -- Filter out very short transcripts (eg. number unavailable, sent to voicemail)"
   ]
  },
  {
   "cell_type": "code",
   "execution_count": null,
   "id": "2a960e7a-317a-4c10-a96f-52e373cd4134",
   "metadata": {
    "codeCollapsed": false,
    "language": "sql",
    "name": "cell12",
    "vscode": {
     "languageId": "sql"
    }
   },
   "outputs": [],
   "source": [
    "SELECT * FROM call_analysis;"
   ]
  },
  {
   "cell_type": "markdown",
   "id": "7f130af7-5e5f-4ba5-a10e-e3b046d06aa4",
   "metadata": {
    "collapsed": false,
    "name": "cell27"
   },
   "source": [
    "## Extracting JSON fields from AI prompt"
   ]
  },
  {
   "cell_type": "code",
   "execution_count": null,
   "id": "ce110000-1111-2222-3333-ffffff000012",
   "metadata": {
    "language": "sql",
    "name": "cell13",
    "vscode": {
     "languageId": "sql"
    }
   },
   "outputs": [],
   "source": [
    "%sql\n",
    "ALTER TABLE call_analysis \n",
    "ADD COLUMN \n",
    "    primary_intent STRING,\n",
    "    urgency_level STRING,\n",
    "    issue_resolved STRING,\n",
    "    escalation_required STRING,\n",
    "    customer_satisfaction STRING;\n",
    "\n",
    "\n",
    "UPDATE call_analysis\n",
    "SET\n",
    "    primary_intent = call_info:primary_intent::STRING,\n",
    "    urgency_level = call_info:urgency_level::STRING,\n",
    "    issue_resolved = call_info:issue_resolved::STRING,\n",
    "    escalation_required = call_info:escalation_required::STRING,\n",
    "    customer_satisfaction = call_info:customer_satisfaction::STRING;"
   ]
  },
  {
   "cell_type": "code",
   "execution_count": null,
   "id": "735aba2e-df33-4784-80a6-0c5b930098b4",
   "metadata": {
    "language": "sql",
    "name": "cell5",
    "vscode": {
     "languageId": "sql"
    }
   },
   "outputs": [],
   "source": [
    "%sql\n",
    "SELECT * FROM call_analysis;"
   ]
  }
 ],
 "metadata": {
  "language_info": {
   "name": "python"
  },
  "lastEditStatus": {
   "authorEmail": "st20336065@outlook.cardiffmet.ac.uk",
   "authorId": "1306982208804",
   "authorName": "JOEYTANWT",
   "lastEditTime": 1755529298653,
   "notebookId": "x5ogn5s5veyzs4hnvaxo",
   "sessionId": "5839832c-7a69-46c1-a26e-3d5e0a02f79c"
  }
 },
 "nbformat": 4,
 "nbformat_minor": 2
}
