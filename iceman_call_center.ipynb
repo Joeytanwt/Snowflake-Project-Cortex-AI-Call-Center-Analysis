{
 "metadata": {
  "language_info": {
   "name": "python"
  },
  "lastEditStatus": {
   "notebookId": "x5ogn5s5veyzs4hnvaxo",
   "authorId": "1306982208804",
   "authorName": "JOEYTANWT",
   "authorEmail": "st20336065@outlook.cardiffmet.ac.uk",
   "sessionId": "5839832c-7a69-46c1-a26e-3d5e0a02f79c",
   "lastEditTime": 1755529298653
  }
 },
 "nbformat_minor": 2,
 "nbformat": 4,
 "cells": [
  {
   "cell_type": "markdown",
   "id": "ce110000-1111-2222-3333-ffffff000000",
   "metadata": {
    "name": "cell1",
    "collapsed": false
   },
   "source": "# Uni-Tat Iceman Call Center Analytics with Snowflake Cortex AI"
  },
  {
   "cell_type": "markdown",
   "id": "a0ff0a3c-6c8f-4a44-bd30-74c6e4eda377",
   "metadata": {
    "name": "cell21",
    "collapsed": false
   },
   "source": "## Setting up session"
  },
  {
   "cell_type": "code",
   "execution_count": null,
   "id": "ce110000-1111-2222-3333-ffffff000001",
   "metadata": {
    "language": "python",
    "name": "cell2"
   },
   "outputs": [],
   "source": "import pandas as pd\nimport json\nimport numpy as np\nimport time\nfrom datetime import datetime, timedelta\nimport streamlit as st\n\nfrom snowflake.snowpark import Session, DataFrame\nfrom snowflake.snowpark import functions as F\nfrom snowflake.snowpark import types as T\nfrom snowflake.snowpark.version import VERSION\n\nsession = get_active_session()\nsession.use_role(\"iceman_call_center_analytics_role\")\nsession.use_schema(\"analytics\")\n\nsession.query_tag = {\"origin\":\"sf_sit\", \"name\":\"call_center_analytics_2\", \"version\":{\"major\":1, \"minor\":0}, \"attributes\":{\"is_quickstart\":1, \"source\":\"notebook\"}}"
  },
  {
   "cell_type": "markdown",
   "id": "52faf4bd-dbf0-4965-9114-6480876d00d1",
   "metadata": {
    "name": "cell19",
    "collapsed": false
   },
   "source": "## List the audio files in the stage"
  },
  {
   "cell_type": "code",
   "execution_count": null,
   "id": "ce110000-1111-2222-3333-ffffff000005",
   "metadata": {
    "language": "sql",
    "name": "cell3",
    "vscode": {
     "languageId": "sql"
    }
   },
   "outputs": [],
   "source": "LIST @audio_files/;"
  },
  {
   "cell_type": "markdown",
   "id": "7b770614-dc10-4dcd-9b7a-45918901bcaf",
   "metadata": {
    "name": "cell22",
    "collapsed": false
   },
   "source": "## Preview audio files with Streamlit"
  },
  {
   "cell_type": "code",
   "execution_count": null,
   "id": "42831e4d-3d2e-47cb-af7d-b098ead98717",
   "metadata": {
    "language": "python",
    "name": "cell7"
   },
   "outputs": [],
   "source": "stage_path = \"@iceman_call_center_analytics_db.analytics.audio_files/2025-08-15_10-13-35_201-UniTatIce_60110344_68684213_68684213_hpbx1.myrepublic.com.sg-1755224015.2859473.WAV\"\n\nwith session.file.get_stream(stage_path) as f:\n    audio_bytes = f.read()\n\n    st.audio(audio_bytes, format=\"audio/mpeg\", start_time=0)"
  },
  {
   "cell_type": "markdown",
   "id": "bffcaace-b17f-4843-9e80-dcd7382bc14c",
   "metadata": {
    "name": "cell20",
    "collapsed": false
   },
   "source": "## Creating table with FILE objects for batch transcription"
  },
  {
   "cell_type": "code",
   "id": "53ed9c2f-3666-4607-a832-c9ba899c5fea",
   "metadata": {
    "language": "sql",
    "name": "cell10"
   },
   "outputs": [],
   "source": "CREATE OR REPLACE TABLE audio_files_for_transcription AS\nSELECT \n    RELATIVE_PATH as file_path,\n    TO_FILE('@audio_files', RELATIVE_PATH) as audio_file,\n    SIZE as file_size_bytes,\n    LAST_MODIFIED as upload_time,\n    REGEXP_SUBSTR(RELATIVE_PATH, '^[^_]+_[^_]+') AS call_id,\n    SPLIT_PART(RELATIVE_PATH, '_', 3) AS handler_id\nFROM DIRECTORY('@audio_files')\nWHERE RELATIVE_PATH ILIKE '%.wav';",
   "execution_count": null
  },
  {
   "cell_type": "code",
   "id": "2748724f-4cc4-44cf-9f35-c7b1f104beb3",
   "metadata": {
    "language": "sql",
    "name": "cell24",
    "codeCollapsed": false
   },
   "outputs": [],
   "source": "SELECT * FROM audio_files_for_transcription;",
   "execution_count": null
  },
  {
   "cell_type": "markdown",
   "id": "ce110000-1111-2222-3333-ffffff000006",
   "metadata": {
    "name": "cell4",
    "collapsed": false
   },
   "source": "## Transcribing audio files"
  },
  {
   "cell_type": "code",
   "execution_count": null,
   "id": "ce110000-1111-2222-3333-ffffff000008",
   "metadata": {
    "language": "sql",
    "name": "cell6",
    "vscode": {
     "languageId": "sql"
    }
   },
   "outputs": [],
   "source": "CREATE OR REPLACE TABLE ai_transcribed_calls AS\nSELECT \n    call_id,\n    handler_id,\n    AI_TRANSCRIBE(audio_file):text::STRING as transcript_text,\n    CURRENT_TIMESTAMP() as transcription_timestamp,\n    LENGTH(AI_TRANSCRIBE(audio_file):text::STRING) as transcript_length,\n    ARRAY_SIZE(SPLIT(AI_TRANSCRIBE(audio_file):text::STRING, ' ')) as word_count,\n    CASE \n        WHEN AI_TRANSCRIBE(audio_file):text IS NULL THEN 'FAILED'\n        WHEN LENGTH(AI_TRANSCRIBE(audio_file):text::STRING) < 10 THEN 'SHORT'\n        ELSE 'SUCCESS'\n    END as transcription_status,\n    file_path\nFROM audio_files_for_transcription\nORDER BY file_size_bytes ASC;  -- Start with smaller files"
  },
  {
   "cell_type": "code",
   "id": "d7fc9cca-cd7f-427d-bf9b-693f25ca0532",
   "metadata": {
    "language": "sql",
    "name": "cell28"
   },
   "outputs": [],
   "source": "SELECT * FROM ai_transcribed_calls;",
   "execution_count": null
  },
  {
   "cell_type": "markdown",
   "id": "f3736610-ffb1-4f87-bcda-468f950965c6",
   "metadata": {
    "name": "cell8",
    "collapsed": false
   },
   "source": "## Using Snowflake Cortex AI to analyse transcripts"
  },
  {
   "cell_type": "code",
   "execution_count": null,
   "id": "ce110000-1111-2222-3333-ffffff000011",
   "metadata": {
    "language": "sql",
    "name": "cell11",
    "vscode": {
     "languageId": "sql"
    }
   },
   "outputs": [],
   "source": "-- Create table to store transcript analysis\nCREATE OR REPLACE TABLE comprehensive_call_analysis AS\nSELECT \n    call_id,\n    handler_id,\n    transcript_text,\n    \n    -- Sentiment Analysis\n    SNOWFLAKE.CORTEX.SENTIMENT(transcript_text) as sentiment_score,\n    CASE \n        WHEN SNOWFLAKE.CORTEX.SENTIMENT(transcript_text) > 0.1 THEN 'POSITIVE'\n        WHEN SNOWFLAKE.CORTEX.SENTIMENT(transcript_text) < -0.1 THEN 'NEGATIVE'\n        ELSE 'NEUTRAL'\n    END as sentiment_category,\n    \n    -- Call Summary\n    SNOWFLAKE.CORTEX.SUMMARIZE(transcript_text) as call_summary,\n    \n    -- Extracting information from call with AI_COMPLETE\n    AI_COMPLETE(\n        model => 'claude-4-sonnet',\n        prompt => 'Analyze this call center conversation and extract structured information. Call transcript: ' || transcript_text,\n        model_parameters => {'temperature': 0.1, 'max_tokens': 2048},\n        response_format => {\n            'type': 'json',\n            'schema': {\n                'type': 'object',\n                'properties': {\n                    'primary_intent': {'type': 'string', 'enum': ['product_enquiry', 'sales', 'delivery_status', 'complaint', 'cancellation', 'other']},\n                    'urgency_level': {'type': 'string', 'enum': ['low', 'medium', 'high', 'critical']},\n                    'issue_resolved': {'type': 'string', 'enum': ['yes', 'no', 'partial']},\n                    'escalation_required': {'type': 'string', 'enum': ['yes', 'no']},\n                    'customer_satisfaction': {'type': 'string', 'enum': ['satisfied', 'neutral', 'dissatisfied']},\n                    'call_duration_estimate': {'type': 'string', 'enum': ['short', 'medium', 'long']},\n                    'key_issues': {'type': 'array', 'items': {'type': 'string'}},\n                    'action_items': {'type': 'array', 'items': {'type': 'string'}},\n                    'invoice_number': {'type': 'array', 'items': {'type': 'string'}},\n                    'monetary_amounts': {'type': 'array', 'items': {'type': 'string'}},\n                    'callback_requested': {'type': 'string', 'enum': ['yes', 'no']}\n                },\n                'required': ['primary_intent', 'urgency_level', 'issue_resolved', 'escalation_required', 'customer_satisfaction']\n            }\n        }\n    ) as call_analysis,\n    \n    -- Quality score\n    TRY_CAST(\n        AI_COMPLETE(\n            model => 'claude-4-sonnet',\n            prompt => 'Rate this call center conversation on a scale of 1-10 for agent performance considering: professionalism, problem-solving, communication clarity, and customer service. Provide only the numeric score (no text). If you cannot determine a score, return null and nothing else: ' || transcript_text,\n            model_parameters => {'temperature': 0, 'max_tokens': 10}\n       )::VARCHAR AS NUMBER(3,1)\n    ) as agent_performance_score,\n    \n    -- Areas of improvement\n    AI_COMPLETE(\n        model => 'claude-4-sonnet',\n        prompt => 'List 3 specific improvement opportunities for this call center conversation in bullet points: ' || transcript_text,\n        model_parameters => {'temperature': 0.3, 'max_tokens': 500}\n    ) as improvement_areas,\n\n    CURRENT_TIMESTAMP() as analysis_timestamp\n    \nFROM ai_transcribed_calls\nWHERE transcription_status = 'SUCCESS'\nAND transcript_text IS NOT NULL\nAND LENGTH(transcript_text) > 50;  -- Filter out very short transcripts (eg. number unavailable, sent to voicemail)"
  },
  {
   "cell_type": "code",
   "execution_count": null,
   "id": "2a960e7a-317a-4c10-a96f-52e373cd4134",
   "metadata": {
    "codeCollapsed": false,
    "language": "sql",
    "name": "cell12"
   },
   "outputs": [],
   "source": "SELECT * FROM comprehensive_call_analysis;"
  },
  {
   "cell_type": "markdown",
   "id": "7f130af7-5e5f-4ba5-a10e-e3b046d06aa4",
   "metadata": {
    "name": "cell27",
    "collapsed": false
   },
   "source": "## Extracting JSON fields from AI prompt"
  },
  {
   "cell_type": "code",
   "execution_count": null,
   "id": "ce110000-1111-2222-3333-ffffff000012",
   "metadata": {
    "language": "sql",
    "name": "cell13",
    "vscode": {
     "languageId": "sql"
    }
   },
   "outputs": [],
   "source": "ALTER TABLE comprehensive_call_analysis \nADD COLUMN \n    primary_intent STRING,\n    urgency_level STRING,\n    issue_resolved STRING,\n    escalation_required STRING,\n    customer_satisfaction STRING;\n\n\nUPDATE comprehensive_call_analysis\nSET\n    primary_intent = call_analysis:primary_intent::STRING,\n    urgency_level = call_analysis:urgency_level::STRING,\n    issue_resolved = call_analysis:issue_resolved::STRING,\n    escalation_required = call_analysis:escalation_required::STRING,\n    customer_satisfaction = call_analysis:customer_satisfaction::STRING;"
  },
  {
   "cell_type": "code",
   "id": "735aba2e-df33-4784-80a6-0c5b930098b4",
   "metadata": {
    "language": "sql",
    "name": "cell5"
   },
   "outputs": [],
   "source": "SELECT * FROM comprehensive_call_analysis;",
   "execution_count": null
  },
  {
   "cell_type": "markdown",
   "id": "ce110000-1111-2222-3333-ffffff000014",
   "metadata": {
    "name": "cell15",
    "collapsed": false
   },
   "source": "## EDA"
  },
  {
   "cell_type": "markdown",
   "id": "2e2ffff8-1c44-46ac-9093-678b80ee6dda",
   "metadata": {
    "name": "cell9",
    "collapsed": false
   },
   "source": "### Summary"
  },
  {
   "cell_type": "code",
   "execution_count": null,
   "id": "ce110000-1111-2222-3333-ffffff000013",
   "metadata": {
    "language": "sql",
    "name": "cell14",
    "vscode": {
     "languageId": "sql"
    }
   },
   "outputs": [],
   "source": "SELECT \n    COUNT(*) as total_calls,\n    ROUND(AVG(sentiment_score), 3) as avg_sentiment,\n    ROUND(AVG(agent_performance_score), 1) as avg_agent_score,\n    COUNT(DISTINCT handler_id) as unique_agents,\n    COUNT(DISTINCT primary_intent) as unique_call_types\nFROM comprehensive_call_analysis;"
  },
  {
   "cell_type": "markdown",
   "id": "46fbca0e-7c07-4066-ae53-ef2505d18bea",
   "metadata": {
    "name": "cell23",
    "collapsed": false
   },
   "source": "### Agent performance"
  },
  {
   "cell_type": "code",
   "execution_count": null,
   "id": "ce110000-1111-2222-3333-ffffff000015",
   "metadata": {
    "language": "sql",
    "name": "cell16",
    "vscode": {
     "languageId": "sql"
    }
   },
   "outputs": [],
   "source": "SELECT \n    handler_id,\n    COUNT(*) as total_calls,\n    ROUND(AVG(sentiment_score), 3) as avg_sentiment,\n    ROUND(AVG(agent_performance_score), 1) as avg_performance_score,\n    \n    -- Resolution effectiveness\n    SUM(CASE WHEN issue_resolved = 'yes' THEN 1 ELSE 0 END) as resolved_calls,\n    ROUND(SUM(CASE WHEN issue_resolved = 'yes' THEN 1 ELSE 0 END) / COUNT(*) * 100, 1) as resolution_rate,\n    \n    -- Customer satisfaction\n    SUM(CASE WHEN customer_satisfaction = 'satisfied' THEN 1 ELSE 0 END) as satisfied_customers,\n    ROUND(SUM(CASE WHEN customer_satisfaction = 'satisfied' THEN 1 ELSE 0 END) / COUNT(*) * 100, 1) as satisfaction_rate,\n    \n    -- Escalation patterns\n    SUM(CASE WHEN escalation_required = 'yes' THEN 1 ELSE 0 END) as escalations,\n    ROUND(SUM(CASE WHEN escalation_required = 'yes' THEN 1 ELSE 0 END) / COUNT(*) * 100, 1) as escalation_rate\n    \nFROM comprehensive_call_analysis\nGROUP BY handler_id\nORDER BY avg_performance_score DESC;"
  },
  {
   "cell_type": "markdown",
   "id": "d67f7250-f5eb-4f8c-a900-9f505565393e",
   "metadata": {
    "name": "cell25",
    "collapsed": false
   },
   "source": "### Call patterns"
  },
  {
   "cell_type": "code",
   "execution_count": null,
   "id": "d91268fe-d919-4ed6-8787-1828f1ada0e7",
   "metadata": {
    "language": "sql",
    "name": "cell17"
   },
   "outputs": [],
   "source": "WITH call_patterns AS (\n    SELECT \n        primary_intent,\n        urgency_level,\n        COUNT(*) as call_count,\n        ROUND(AVG(sentiment_score), 3) as avg_sentiment,\n        ROUND(AVG(agent_performance_score), 1) as avg_agent_score,\n        \n        -- Resolution patterns\n        ROUND(SUM(CASE WHEN issue_resolved = 'yes' THEN 1 ELSE 0 END) / COUNT(*) * 100, 1) as resolution_rate,\n        \n        -- Satisfaction patterns\n        ROUND(SUM(CASE WHEN customer_satisfaction = 'satisfied' THEN 1 ELSE 0 END) / COUNT(*) * 100, 1) as satisfaction_rate,\n        \n        -- Escalation patterns\n        ROUND(SUM(CASE WHEN escalation_required = 'yes' THEN 1 ELSE 0 END) / COUNT(*) * 100, 1) as escalation_rate\n        \n    FROM comprehensive_call_analysis\n    WHERE primary_intent IS NOT NULL AND primary_intent != 'Not Available'\n    GROUP BY primary_intent, urgency_level\n)\nSELECT \n    primary_intent,\n    urgency_level,\n    call_count,\n    avg_sentiment,\n    avg_agent_score,\n    resolution_rate,\n    satisfaction_rate,\n    escalation_rate,\n    \n    -- Flags\n    CASE \n        WHEN resolution_rate < 70 THEN '⚠️ Low Resolution'\n        WHEN satisfaction_rate < 60 THEN '⚠️ Low Satisfaction'\n        WHEN escalation_rate > 30 THEN '⚠️ High Escalation'\n        ELSE '✅ Good Performance'\n    END as flag\n    \nFROM call_patterns\nORDER BY call_count DESC;"
  }
 ]
}